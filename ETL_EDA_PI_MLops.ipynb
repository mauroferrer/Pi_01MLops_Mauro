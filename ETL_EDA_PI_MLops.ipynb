{
 "cells": [
  {
   "cell_type": "code",
   "execution_count": 75,
   "metadata": {},
   "outputs": [],
   "source": [
    "import pandas as pd\n",
    "import numpy as np \n",
    "import matplotlib.pyplot as plt\n",
    "import seaborn as sns"
   ]
  },
  {
   "cell_type": "code",
   "execution_count": 76,
   "metadata": {},
   "outputs": [],
   "source": [
    "data_netflix = pd.read_csv('C:\\\\Users\\\\Usuario\\\\Downloads\\\\netflix_titles.csv')\n",
    "data_disney = pd.read_csv('C:\\\\Users\\\\Usuario\\\\Downloads\\\\disney_plus_titles.csv')\n",
    "data_hulu = pd.read_csv('C:\\\\Users\\\\Usuario\\\\Downloads\\\\hulu_titles.csv')\n",
    "data_amazon = pd.read_csv('C:\\\\Users\\\\Usuario\\\\Downloads\\\\amazon_prime_titles.csv')"
   ]
  },
  {
   "cell_type": "code",
   "execution_count": 77,
   "metadata": {},
   "outputs": [],
   "source": [
    "###TRANSFORMACION DE LOS DATOS Netflix\n",
    "data_netflix['Plataforma'] = ['Netflix'] * len(data_netflix) #Creo la columna plataforma\n",
    "\n",
    "data_netflix['show_id'] = 'n' + data_netflix['show_id']  #Transformacion de id \n",
    "\n",
    "data_netflix['rating'] = data_netflix['rating'].fillna('G')\n",
    "\n",
    "data_netflix['date_added'] = pd.to_datetime(data_netflix['date_added'])\n",
    "\n",
    "data_netflix['type'] = data_netflix['type'].str.lower()\n",
    "data_netflix['title'] = data_netflix['title'].str.lower()\n",
    "data_netflix['director'] = data_netflix['director'].str.lower()\n",
    "data_netflix['cast'] = data_netflix['cast'].str.lower()\n",
    "data_netflix['country'] = data_netflix['country'].str.lower()\n",
    "data_netflix['listed_in'] = data_netflix['listed_in'].str.lower()\n",
    "data_netflix['description'] = data_netflix['description'].str.lower()\n",
    "\n",
    "data_netflix[['duration_int', 'duration_type']] = data_netflix['duration'].str.split(' ', expand=True)\n",
    "data_netflix.drop(columns=['duration'], inplace=True)\n",
    "data_netflix['duration_int'] = data_netflix['duration_int'].fillna(0).astype(int)\n",
    "data_netflix['duration_int'] = data_netflix ['duration_int'].astype(int)\n",
    " \n",
    "data_netflix['Plataforma'] = data_netflix['Plataforma'].str.lower()"
   ]
  },
  {
   "cell_type": "code",
   "execution_count": 78,
   "metadata": {},
   "outputs": [],
   "source": [
    "###TRANSFORMACION DE LOS DATOS Amazon\n",
    "\n",
    "data_amazon['show_id'] = 'a' + data_amazon['show_id']  #Transformacion de id \n",
    "\n",
    "data_amazon['rating'] = data_amazon['rating'].fillna('G') #Donde haya  filas nullas colocar una G 'apto para todo publico' \n",
    "\n",
    "data_amazon['date_added'] = pd.to_datetime(data_amazon['date_added']) # Tranformar tipo de dato a datatime \n",
    "\n",
    "data_amazon['type'] = data_amazon['type'].str.lower()\n",
    "data_amazon['title'] = data_amazon['title'].str.lower()\n",
    "data_amazon['director'] = data_amazon['director'].str.lower()\n",
    "data_amazon['cast'] = data_amazon['cast'].str.lower()\n",
    "data_amazon['country'] = data_amazon['country'].str.lower()\n",
    "data_amazon['listed_in'] = data_amazon['listed_in'].str.lower()\n",
    "data_amazon['description'] = data_amazon['description'].str.lower() # Tranformando mayusculas en minusculas \n",
    "\n",
    "data_amazon[['duration_int', 'duration_type']] = data_amazon['duration'].str.split(' ', expand=True)\n",
    "data_amazon.drop(columns=['duration'], inplace=True)#Transformando de columna 'duration' a 'duration_type' y 'duration_int'\n",
    "data_amazon['duration_int'] = data_amazon['duration_int'].fillna(0).astype(int)\n",
    "data_amazon['duration_int'] = data_amazon['duration_int'].astype(int)\n",
    "data_amazon['Plataforma'] = ['Amazon'] * len(data_amazon)\n",
    "data_amazon['Plataforma'] = data_amazon['Plataforma'].str.lower()"
   ]
  },
  {
   "cell_type": "code",
   "execution_count": 79,
   "metadata": {},
   "outputs": [],
   "source": [
    "###TRANSFORMACION DE LOS DATOS Disney\n",
    "\n",
    "data_disney['show_id'] = 'd' + data_disney['show_id']  #Transformacion de id \n",
    "\n",
    "data_disney['rating'] = data_disney['rating'].fillna('G') #Donde haya  filas nullas colocar una G 'apto para todo publico' \n",
    "\n",
    "data_disney['date_added'] = pd.to_datetime(data_disney['date_added']) # Tranformar tipo de dato a datatime \n",
    "\n",
    "data_disney['type'] = data_disney['type'].str.lower()\n",
    "data_disney['title'] = data_disney['title'].str.lower()\n",
    "data_disney['director'] = data_disney['director'].str.lower()\n",
    "data_disney['cast'] = data_disney['cast'].str.lower()\n",
    "data_disney['country'] = data_disney['country'].str.lower()\n",
    "data_disney['listed_in'] = data_disney['listed_in'].str.lower()\n",
    "data_disney['description'] = data_disney['description'].str.lower() # Tranformando mayusculas en minusculas \n",
    "\n",
    "data_disney[['duration_int', 'duration_type']] = data_disney['duration'].str.split(' ', expand=True)\n",
    "data_disney.drop(columns=['duration'], inplace=True)#Transformando de columna 'duration' a 'duration_type' y 'duration_int'\n",
    "data_disney['duration_int'] = data_disney['duration_int'].fillna(0).astype(int)\n",
    "data_disney['duration_int'] = data_disney['duration_int'].astype(int)\n",
    "data_disney['Plataforma'] = ['Disney'] * len(data_disney)\n",
    "data_disney['Plataforma'] = data_disney['Plataforma'].str.lower()"
   ]
  },
  {
   "cell_type": "code",
   "execution_count": 80,
   "metadata": {},
   "outputs": [],
   "source": [
    "###TRANSFORMACION DE LOS DATOS Hulu\n",
    "\n",
    "data_hulu['show_id'] = 'h' + data_hulu['show_id']  #Transformacion de id \n",
    "\n",
    "data_hulu['rating'] = data_hulu['rating'].fillna('G') #Donde haya  filas nullas colocar una G 'apto para todo publico' \n",
    "\n",
    "data_hulu['date_added'] = pd.to_datetime(data_hulu['date_added']) # Tranformar tipo de dato a datatime \n",
    "\n",
    "data_hulu['type'] = data_hulu['type'].str.lower()\n",
    "data_hulu['title'] = data_hulu['title'].str.lower()\n",
    "data_hulu['director'] = data_hulu['director'].str.lower()\n",
    "data_hulu['cast'] = data_hulu['cast'].fillna('').astype(str)\n",
    "data_hulu['cast'] = data_hulu['cast'].astype(str)\n",
    "data_hulu['cast'] = data_hulu['cast'].str.lower()\n",
    "data_hulu['country'] = data_hulu['country'].str.lower()\n",
    "data_hulu['listed_in'] = data_hulu['listed_in'].str.lower()\n",
    "data_hulu['description'] = data_hulu['description'].str.lower() # Tranformando mayusculas en minusculas \n",
    "\n",
    "data_hulu[['duration_int', 'duration_type']] = data_hulu['duration'].str.split(' ', expand=True)\n",
    "data_hulu.drop(columns=['duration'], inplace=True)#Transformando de columna 'duration' a 'duration_type' y 'duration_int'\n",
    "data_hulu['duration_int'] = data_hulu['duration_int'].fillna(0).astype(int)\n",
    "data_hulu['duration_int'] = data_hulu ['duration_int'].astype(int)\n",
    "data_hulu['Plataforma'] = ['Hulu'] * len(data_hulu)\n",
    "data_hulu['Plataforma'] = data_hulu['Plataforma'].str.lower()"
   ]
  },
  {
   "cell_type": "code",
   "execution_count": 81,
   "metadata": {},
   "outputs": [],
   "source": [
    "###Concatenacion de los datasets\n",
    "df_concat = pd.concat([data_netflix, data_hulu, data_amazon, data_disney], axis=0)"
   ]
  },
  {
   "cell_type": "code",
   "execution_count": 82,
   "metadata": {},
   "outputs": [],
   "source": [
    "df_concat.to_csv('platform_concat.csv')"
   ]
  },
  {
   "cell_type": "code",
   "execution_count": 83,
   "metadata": {},
   "outputs": [
    {
     "data": {
      "text/html": [
       "<div>\n",
       "<style scoped>\n",
       "    .dataframe tbody tr th:only-of-type {\n",
       "        vertical-align: middle;\n",
       "    }\n",
       "\n",
       "    .dataframe tbody tr th {\n",
       "        vertical-align: top;\n",
       "    }\n",
       "\n",
       "    .dataframe thead th {\n",
       "        text-align: right;\n",
       "    }\n",
       "</style>\n",
       "<table border=\"1\" class=\"dataframe\">\n",
       "  <thead>\n",
       "    <tr style=\"text-align: right;\">\n",
       "      <th></th>\n",
       "      <th>userId</th>\n",
       "      <th>rating</th>\n",
       "      <th>timestamp</th>\n",
       "      <th>movieId</th>\n",
       "    </tr>\n",
       "  </thead>\n",
       "  <tbody>\n",
       "    <tr>\n",
       "      <th>0</th>\n",
       "      <td>108422</td>\n",
       "      <td>4.5</td>\n",
       "      <td>1350689762</td>\n",
       "      <td>as1399</td>\n",
       "    </tr>\n",
       "    <tr>\n",
       "      <th>1</th>\n",
       "      <td>108422</td>\n",
       "      <td>4.0</td>\n",
       "      <td>1350341401</td>\n",
       "      <td>as6724</td>\n",
       "    </tr>\n",
       "    <tr>\n",
       "      <th>2</th>\n",
       "      <td>108422</td>\n",
       "      <td>5.0</td>\n",
       "      <td>1350689691</td>\n",
       "      <td>ns512</td>\n",
       "    </tr>\n",
       "  </tbody>\n",
       "</table>\n",
       "</div>"
      ],
      "text/plain": [
       "   userId  rating   timestamp movieId\n",
       "0  108422     4.5  1350689762  as1399\n",
       "1  108422     4.0  1350341401  as6724\n",
       "2  108422     5.0  1350689691   ns512"
      ]
     },
     "execution_count": 83,
     "metadata": {},
     "output_type": "execute_result"
    }
   ],
   "source": [
    "#Importacion de los 8 csv\n",
    "df = pd.read_csv('C:\\\\Users\\\\Usuario\\\\Downloads\\\\8.csv')\n",
    "df.head(3)"
   ]
  },
  {
   "cell_type": "code",
   "execution_count": 84,
   "metadata": {},
   "outputs": [
    {
     "name": "stdout",
     "output_type": "stream",
     "text": [
      "<class 'pandas.core.frame.DataFrame'>\n",
      "RangeIndex: 1500000 entries, 0 to 1499999\n",
      "Data columns (total 4 columns):\n",
      " #   Column     Non-Null Count    Dtype  \n",
      "---  ------     --------------    -----  \n",
      " 0   userId     1500000 non-null  int64  \n",
      " 1   rating     1500000 non-null  float64\n",
      " 2   timestamp  1500000 non-null  int64  \n",
      " 3   movieId    1500000 non-null  object \n",
      "dtypes: float64(1), int64(2), object(1)\n",
      "memory usage: 45.8+ MB\n"
     ]
    }
   ],
   "source": [
    "df.info()"
   ]
  },
  {
   "cell_type": "code",
   "execution_count": 85,
   "metadata": {},
   "outputs": [],
   "source": [
    "#cambio el formato de la columna 'timestamp', aca lo paso de int a 'float'\n",
    "df['timestamp'] = pd.to_datetime(df['timestamp'], unit='s').dt.strftime('%B %d, %Y')"
   ]
  },
  {
   "cell_type": "code",
   "execution_count": 86,
   "metadata": {},
   "outputs": [],
   "source": [
    "#paso a formato fecha \n",
    "df['timestamp'] = pd.to_datetime(df['timestamp'])\n"
   ]
  },
  {
   "cell_type": "code",
   "execution_count": 87,
   "metadata": {},
   "outputs": [],
   "source": [
    "#Cambiamos el nombre del campo 'rating' por 'score'\n",
    "df_rating = df.rename(columns = {'rating' : 'score'})"
   ]
  },
  {
   "cell_type": "code",
   "execution_count": 88,
   "metadata": {},
   "outputs": [
    {
     "data": {
      "text/html": [
       "<div>\n",
       "<style scoped>\n",
       "    .dataframe tbody tr th:only-of-type {\n",
       "        vertical-align: middle;\n",
       "    }\n",
       "\n",
       "    .dataframe tbody tr th {\n",
       "        vertical-align: top;\n",
       "    }\n",
       "\n",
       "    .dataframe thead th {\n",
       "        text-align: right;\n",
       "    }\n",
       "</style>\n",
       "<table border=\"1\" class=\"dataframe\">\n",
       "  <thead>\n",
       "    <tr style=\"text-align: right;\">\n",
       "      <th></th>\n",
       "      <th>userId</th>\n",
       "      <th>score</th>\n",
       "      <th>timestamp</th>\n",
       "      <th>movieId</th>\n",
       "    </tr>\n",
       "  </thead>\n",
       "  <tbody>\n",
       "    <tr>\n",
       "      <th>0</th>\n",
       "      <td>108422</td>\n",
       "      <td>4.5</td>\n",
       "      <td>2012-10-19</td>\n",
       "      <td>as1399</td>\n",
       "    </tr>\n",
       "    <tr>\n",
       "      <th>1</th>\n",
       "      <td>108422</td>\n",
       "      <td>4.0</td>\n",
       "      <td>2012-10-15</td>\n",
       "      <td>as6724</td>\n",
       "    </tr>\n",
       "    <tr>\n",
       "      <th>2</th>\n",
       "      <td>108422</td>\n",
       "      <td>5.0</td>\n",
       "      <td>2012-10-19</td>\n",
       "      <td>ns512</td>\n",
       "    </tr>\n",
       "    <tr>\n",
       "      <th>3</th>\n",
       "      <td>108422</td>\n",
       "      <td>4.5</td>\n",
       "      <td>2012-10-15</td>\n",
       "      <td>ns7444</td>\n",
       "    </tr>\n",
       "    <tr>\n",
       "      <th>4</th>\n",
       "      <td>108422</td>\n",
       "      <td>4.5</td>\n",
       "      <td>2012-10-19</td>\n",
       "      <td>as2230</td>\n",
       "    </tr>\n",
       "  </tbody>\n",
       "</table>\n",
       "</div>"
      ],
      "text/plain": [
       "   userId  score  timestamp movieId\n",
       "0  108422    4.5 2012-10-19  as1399\n",
       "1  108422    4.0 2012-10-15  as6724\n",
       "2  108422    5.0 2012-10-19   ns512\n",
       "3  108422    4.5 2012-10-15  ns7444\n",
       "4  108422    4.5 2012-10-19  as2230"
      ]
     },
     "execution_count": 88,
     "metadata": {},
     "output_type": "execute_result"
    }
   ],
   "source": [
    "df_rating.head()"
   ]
  },
  {
   "cell_type": "code",
   "execution_count": 89,
   "metadata": {},
   "outputs": [
    {
     "data": {
      "text/plain": [
       "(1500000, 4)"
      ]
     },
     "execution_count": 89,
     "metadata": {},
     "output_type": "execute_result"
    }
   ],
   "source": [
    "df_rating.shape"
   ]
  },
  {
   "cell_type": "code",
   "execution_count": 90,
   "metadata": {},
   "outputs": [],
   "source": [
    "#Calculo el promedio de cada pelicula \n",
    "MeanScore = df_rating.groupby(\"movieId\")\n",
    "MeanScore = MeanScore[\"score\"].mean()"
   ]
  },
  {
   "cell_type": "code",
   "execution_count": 91,
   "metadata": {},
   "outputs": [
    {
     "data": {
      "text/html": [
       "<div>\n",
       "<style scoped>\n",
       "    .dataframe tbody tr th:only-of-type {\n",
       "        vertical-align: middle;\n",
       "    }\n",
       "\n",
       "    .dataframe tbody tr th {\n",
       "        vertical-align: top;\n",
       "    }\n",
       "\n",
       "    .dataframe thead th {\n",
       "        text-align: right;\n",
       "    }\n",
       "</style>\n",
       "<table border=\"1\" class=\"dataframe\">\n",
       "  <thead>\n",
       "    <tr style=\"text-align: right;\">\n",
       "      <th></th>\n",
       "      <th>score</th>\n",
       "    </tr>\n",
       "    <tr>\n",
       "      <th>movieId</th>\n",
       "      <th></th>\n",
       "    </tr>\n",
       "  </thead>\n",
       "  <tbody>\n",
       "    <tr>\n",
       "      <th>as1</th>\n",
       "      <td>3.492754</td>\n",
       "    </tr>\n",
       "    <tr>\n",
       "      <th>as10</th>\n",
       "      <td>3.343750</td>\n",
       "    </tr>\n",
       "    <tr>\n",
       "      <th>as100</th>\n",
       "      <td>3.745902</td>\n",
       "    </tr>\n",
       "    <tr>\n",
       "      <th>as1000</th>\n",
       "      <td>3.615385</td>\n",
       "    </tr>\n",
       "    <tr>\n",
       "      <th>as1001</th>\n",
       "      <td>3.746032</td>\n",
       "    </tr>\n",
       "    <tr>\n",
       "      <th>...</th>\n",
       "      <td>...</td>\n",
       "    </tr>\n",
       "    <tr>\n",
       "      <th>ns995</th>\n",
       "      <td>3.436508</td>\n",
       "    </tr>\n",
       "    <tr>\n",
       "      <th>ns996</th>\n",
       "      <td>3.615942</td>\n",
       "    </tr>\n",
       "    <tr>\n",
       "      <th>ns997</th>\n",
       "      <td>3.655738</td>\n",
       "    </tr>\n",
       "    <tr>\n",
       "      <th>ns998</th>\n",
       "      <td>3.541096</td>\n",
       "    </tr>\n",
       "    <tr>\n",
       "      <th>ns999</th>\n",
       "      <td>3.578571</td>\n",
       "    </tr>\n",
       "  </tbody>\n",
       "</table>\n",
       "<p>22998 rows × 1 columns</p>\n",
       "</div>"
      ],
      "text/plain": [
       "            score\n",
       "movieId          \n",
       "as1      3.492754\n",
       "as10     3.343750\n",
       "as100    3.745902\n",
       "as1000   3.615385\n",
       "as1001   3.746032\n",
       "...           ...\n",
       "ns995    3.436508\n",
       "ns996    3.615942\n",
       "ns997    3.655738\n",
       "ns998    3.541096\n",
       "ns999    3.578571\n",
       "\n",
       "[22998 rows x 1 columns]"
      ]
     },
     "execution_count": 91,
     "metadata": {},
     "output_type": "execute_result"
    }
   ],
   "source": [
    "#Lo pasamos a un dataframe y reseteamos el indice\n",
    "df_MeanScore= pd.DataFrame(MeanScore)\n",
    "df_MeanScore"
   ]
  },
  {
   "cell_type": "code",
   "execution_count": 92,
   "metadata": {},
   "outputs": [],
   "source": [
    "#Concatenamos los scores con sus plataformas segun el id correspondiente\n",
    "platform_movies = df_concat.merge(df_MeanScore, left_on=\"show_id\", right_on=\"movieId\")"
   ]
  },
  {
   "cell_type": "code",
   "execution_count": 93,
   "metadata": {},
   "outputs": [
    {
     "data": {
      "text/html": [
       "<div>\n",
       "<style scoped>\n",
       "    .dataframe tbody tr th:only-of-type {\n",
       "        vertical-align: middle;\n",
       "    }\n",
       "\n",
       "    .dataframe tbody tr th {\n",
       "        vertical-align: top;\n",
       "    }\n",
       "\n",
       "    .dataframe thead th {\n",
       "        text-align: right;\n",
       "    }\n",
       "</style>\n",
       "<table border=\"1\" class=\"dataframe\">\n",
       "  <thead>\n",
       "    <tr style=\"text-align: right;\">\n",
       "      <th></th>\n",
       "      <th>show_id</th>\n",
       "      <th>type</th>\n",
       "      <th>title</th>\n",
       "      <th>director</th>\n",
       "      <th>cast</th>\n",
       "      <th>country</th>\n",
       "      <th>date_added</th>\n",
       "      <th>release_year</th>\n",
       "      <th>rating</th>\n",
       "      <th>listed_in</th>\n",
       "      <th>description</th>\n",
       "      <th>Plataforma</th>\n",
       "      <th>duration_int</th>\n",
       "      <th>duration_type</th>\n",
       "      <th>score</th>\n",
       "    </tr>\n",
       "  </thead>\n",
       "  <tbody>\n",
       "    <tr>\n",
       "      <th>0</th>\n",
       "      <td>ns1</td>\n",
       "      <td>movie</td>\n",
       "      <td>dick johnson is dead</td>\n",
       "      <td>kirsten johnson</td>\n",
       "      <td>NaN</td>\n",
       "      <td>united states</td>\n",
       "      <td>2021-09-25</td>\n",
       "      <td>2020</td>\n",
       "      <td>PG-13</td>\n",
       "      <td>documentaries</td>\n",
       "      <td>as her father nears the end of his life, filmm...</td>\n",
       "      <td>netflix</td>\n",
       "      <td>90</td>\n",
       "      <td>min</td>\n",
       "      <td>3.71875</td>\n",
       "    </tr>\n",
       "    <tr>\n",
       "      <th>1</th>\n",
       "      <td>ns2</td>\n",
       "      <td>tv show</td>\n",
       "      <td>blood &amp; water</td>\n",
       "      <td>NaN</td>\n",
       "      <td>ama qamata, khosi ngema, gail mabalane, thaban...</td>\n",
       "      <td>south africa</td>\n",
       "      <td>2021-09-24</td>\n",
       "      <td>2021</td>\n",
       "      <td>TV-MA</td>\n",
       "      <td>international tv shows, tv dramas, tv mysteries</td>\n",
       "      <td>after crossing paths at a party, a cape town t...</td>\n",
       "      <td>netflix</td>\n",
       "      <td>2</td>\n",
       "      <td>Seasons</td>\n",
       "      <td>3.56250</td>\n",
       "    </tr>\n",
       "    <tr>\n",
       "      <th>2</th>\n",
       "      <td>ns3</td>\n",
       "      <td>tv show</td>\n",
       "      <td>ganglands</td>\n",
       "      <td>julien leclercq</td>\n",
       "      <td>sami bouajila, tracy gotoas, samuel jouy, nabi...</td>\n",
       "      <td>NaN</td>\n",
       "      <td>2021-09-24</td>\n",
       "      <td>2021</td>\n",
       "      <td>TV-MA</td>\n",
       "      <td>crime tv shows, international tv shows, tv act...</td>\n",
       "      <td>to protect his family from a powerful drug lor...</td>\n",
       "      <td>netflix</td>\n",
       "      <td>1</td>\n",
       "      <td>Season</td>\n",
       "      <td>3.65000</td>\n",
       "    </tr>\n",
       "  </tbody>\n",
       "</table>\n",
       "</div>"
      ],
      "text/plain": [
       "  show_id     type                 title         director  \\\n",
       "0     ns1    movie  dick johnson is dead  kirsten johnson   \n",
       "1     ns2  tv show         blood & water              NaN   \n",
       "2     ns3  tv show             ganglands  julien leclercq   \n",
       "\n",
       "                                                cast        country  \\\n",
       "0                                                NaN  united states   \n",
       "1  ama qamata, khosi ngema, gail mabalane, thaban...   south africa   \n",
       "2  sami bouajila, tracy gotoas, samuel jouy, nabi...            NaN   \n",
       "\n",
       "  date_added  release_year rating  \\\n",
       "0 2021-09-25          2020  PG-13   \n",
       "1 2021-09-24          2021  TV-MA   \n",
       "2 2021-09-24          2021  TV-MA   \n",
       "\n",
       "                                           listed_in  \\\n",
       "0                                      documentaries   \n",
       "1    international tv shows, tv dramas, tv mysteries   \n",
       "2  crime tv shows, international tv shows, tv act...   \n",
       "\n",
       "                                         description Plataforma  duration_int  \\\n",
       "0  as her father nears the end of his life, filmm...    netflix            90   \n",
       "1  after crossing paths at a party, a cape town t...    netflix             2   \n",
       "2  to protect his family from a powerful drug lor...    netflix             1   \n",
       "\n",
       "  duration_type    score  \n",
       "0           min  3.71875  \n",
       "1       Seasons  3.56250  \n",
       "2        Season  3.65000  "
      ]
     },
     "execution_count": 93,
     "metadata": {},
     "output_type": "execute_result"
    }
   ],
   "source": [
    "platform_movies.head(3)"
   ]
  },
  {
   "cell_type": "code",
   "execution_count": 98,
   "metadata": {},
   "outputs": [
    {
     "data": {
      "text/plain": [
       "(22998, 15)"
      ]
     },
     "execution_count": 98,
     "metadata": {},
     "output_type": "execute_result"
    }
   ],
   "source": [
    "platform_movies.shape"
   ]
  },
  {
   "cell_type": "code",
   "execution_count": 99,
   "metadata": {},
   "outputs": [
    {
     "data": {
      "text/plain": [
       "show_id              0\n",
       "type                 0\n",
       "title                0\n",
       "director          8259\n",
       "cast              2248\n",
       "country          11499\n",
       "date_added        9554\n",
       "release_year         0\n",
       "rating               0\n",
       "listed_in            0\n",
       "description          4\n",
       "Plataforma           0\n",
       "duration_int         0\n",
       "duration_type      482\n",
       "score                0\n",
       "dtype: int64"
      ]
     },
     "execution_count": 99,
     "metadata": {},
     "output_type": "execute_result"
    }
   ],
   "source": [
    "platform_movies.isnull().sum()"
   ]
  },
  {
   "cell_type": "code",
   "execution_count": 100,
   "metadata": {},
   "outputs": [
    {
     "name": "stdout",
     "output_type": "stream",
     "text": [
      "<class 'pandas.core.frame.DataFrame'>\n",
      "Int64Index: 22998 entries, 0 to 22997\n",
      "Data columns (total 15 columns):\n",
      " #   Column         Non-Null Count  Dtype         \n",
      "---  ------         --------------  -----         \n",
      " 0   show_id        22998 non-null  object        \n",
      " 1   type           22998 non-null  object        \n",
      " 2   title          22998 non-null  object        \n",
      " 3   director       14739 non-null  object        \n",
      " 4   cast           20750 non-null  object        \n",
      " 5   country        11499 non-null  object        \n",
      " 6   date_added     13444 non-null  datetime64[ns]\n",
      " 7   release_year   22998 non-null  int64         \n",
      " 8   rating         22998 non-null  object        \n",
      " 9   listed_in      22998 non-null  object        \n",
      " 10  description    22994 non-null  object        \n",
      " 11  Plataforma     22998 non-null  object        \n",
      " 12  duration_int   22998 non-null  int32         \n",
      " 13  duration_type  22516 non-null  object        \n",
      " 14  score          22998 non-null  float64       \n",
      "dtypes: datetime64[ns](1), float64(1), int32(1), int64(1), object(11)\n",
      "memory usage: 2.7+ MB\n"
     ]
    }
   ],
   "source": [
    "platform_movies.info()"
   ]
  },
  {
   "cell_type": "code",
   "execution_count": 101,
   "metadata": {},
   "outputs": [],
   "source": [
    "platform_movies.to_csv('platform_movies_scores.csv')"
   ]
  },
  {
   "cell_type": "code",
   "execution_count": 97,
   "metadata": {},
   "outputs": [],
   "source": [
    "df_concat.to_csv('platform_concat.csv')"
   ]
  }
 ],
 "metadata": {
  "kernelspec": {
   "display_name": "Python 3",
   "language": "python",
   "name": "python3"
  },
  "language_info": {
   "codemirror_mode": {
    "name": "ipython",
    "version": 3
   },
   "file_extension": ".py",
   "mimetype": "text/x-python",
   "name": "python",
   "nbconvert_exporter": "python",
   "pygments_lexer": "ipython3",
   "version": "3.10.11"
  },
  "orig_nbformat": 4
 },
 "nbformat": 4,
 "nbformat_minor": 2
}
