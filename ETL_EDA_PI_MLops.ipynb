{
 "cells": [
  {
   "attachments": {},
   "cell_type": "markdown",
   "metadata": {},
   "source": [
    "# PI_MLops Mauro Ferrera\n",
    "## Proceso ETL y analisis EDA de los datos  "
   ]
  },
  {
   "cell_type": "code",
   "execution_count": 1,
   "metadata": {},
   "outputs": [
    {
     "name": "stderr",
     "output_type": "stream",
     "text": [
      "C:\\Users\\Usuario\\AppData\\Local\\Packages\\PythonSoftwareFoundation.Python.3.10_qbz5n2kfra8p0\\LocalCache\\local-packages\\Python310\\site-packages\\numpy\\_distributor_init.py:30: UserWarning: loaded more than 1 DLL from .libs:\n",
      "C:\\Users\\Usuario\\AppData\\Local\\Packages\\PythonSoftwareFoundation.Python.3.10_qbz5n2kfra8p0\\LocalCache\\local-packages\\Python310\\site-packages\\numpy\\.libs\\libopenblas.FB5AE2TYXYH2IJRDKGDGQ3XBKLKTF43H.gfortran-win_amd64.dll\n",
      "C:\\Users\\Usuario\\AppData\\Local\\Packages\\PythonSoftwareFoundation.Python.3.10_qbz5n2kfra8p0\\LocalCache\\local-packages\\Python310\\site-packages\\numpy\\.libs\\libopenblas64__v0.3.21-gcc_10_3_0.dll\n",
      "  warnings.warn(\"loaded more than 1 DLL from .libs:\"\n",
      "C:\\Users\\Usuario\\AppData\\Local\\Packages\\PythonSoftwareFoundation.Python.3.10_qbz5n2kfra8p0\\LocalCache\\local-packages\\Python310\\site-packages\\tqdm\\auto.py:22: TqdmWarning: IProgress not found. Please update jupyter and ipywidgets. See https://ipywidgets.readthedocs.io/en/stable/user_install.html\n",
      "  from .autonotebook import tqdm as notebook_tqdm\n",
      "C:\\Users\\Usuario\\AppData\\Local\\Temp\\ipykernel_9928\\1716407264.py:6: DeprecationWarning: `import pandas_profiling` is going to be deprecated by April 1st. Please use `import ydata_profiling` instead.\n",
      "  import pandas_profiling\n"
     ]
    }
   ],
   "source": [
    "### Importacion de las librerias a utilizar\n",
    "import pandas as pd\n",
    "import numpy as np \n",
    "import matplotlib.pyplot as plt\n",
    "import seaborn as sns\n",
    "import pandas_profiling "
   ]
  },
  {
   "attachments": {},
   "cell_type": "markdown",
   "metadata": {},
   "source": [
    "### Impotacion de los datos (Plataformas de streaming)"
   ]
  },
  {
   "cell_type": "code",
   "execution_count": 2,
   "metadata": {},
   "outputs": [],
   "source": [
    "data_netflix = pd.read_csv('Csvs\\\\netflix_titles.csv')\n",
    "data_disney = pd.read_csv('Csvs\\\\disney_plus_titles.csv')\n",
    "data_hulu = pd.read_csv('Csvs\\\\hulu_titles.csv')\n",
    "data_amazon = pd.read_csv('Csvs\\\\amazon_prime_titles.csv')"
   ]
  },
  {
   "attachments": {},
   "cell_type": "markdown",
   "metadata": {},
   "source": [
    "## Transformacion de los datos (procesos ETL)"
   ]
  },
  {
   "cell_type": "code",
   "execution_count": 3,
   "metadata": {},
   "outputs": [],
   "source": [
    "###### TRANSFORMACION DE LOS DATOS NETFLIX\n",
    "\n",
    "data_netflix['Plataforma'] = ['Netflix'] * len(data_netflix) ### Creo la columna plataforma con el nombre de la plataforma correspondiente\n",
    "\n",
    "data_netflix['show_id'] = 'n' + data_netflix['show_id']  ### Transformacion de id para identificar su plataforma segun su inicial\n",
    "\n",
    "data_netflix['rating'] = data_netflix['rating'].fillna('G') ### Donde halla valores nulos en rating remplazar con una 'G' simbolizando 'para todo publico'\n",
    "\n",
    "data_netflix['date_added'] = pd.to_datetime(data_netflix['date_added']) ### Pasamos datos a tipo fecha de la columna 'data_added'\n",
    "\n",
    "data_netflix['type'] = data_netflix['type'].str.lower() ### Transformamos a texto en minuscula todas las columna tipo texto \n",
    "data_netflix['title'] = data_netflix['title'].str.lower()\n",
    "data_netflix['director'] = data_netflix['director'].str.lower()\n",
    "data_netflix['cast'] = data_netflix['cast'].str.lower()\n",
    "data_netflix['country'] = data_netflix['country'].str.lower()\n",
    "data_netflix['listed_in'] = data_netflix['listed_in'].str.lower()\n",
    "data_netflix['description'] = data_netflix['description'].str.lower()\n",
    "\n",
    "data_netflix[['duration_int', 'duration_type']] = data_netflix['duration'].str.split(' ', expand=True) ### Creamos columna 'duration_type' y 'duration_int' en base a la columna 'duration'\n",
    "data_netflix.drop(columns=['duration'], inplace=True)\n",
    "data_netflix['duration_int'] = data_netflix['duration_int'].fillna(0).astype(int)\n",
    "data_netflix['duration_int'] = data_netflix ['duration_int'].astype(int)\n",
    " \n",
    "data_netflix['Plataforma'] = data_netflix['Plataforma'].str.lower()"
   ]
  },
  {
   "cell_type": "code",
   "execution_count": 4,
   "metadata": {},
   "outputs": [],
   "source": [
    "###### TRANSFORMACION DE LOS DATOS AMAZON\n",
    "\n",
    "data_amazon['show_id'] = 'a' + data_amazon['show_id']  ### Transformacion de id para identificar su plataforma segun su inicial\n",
    "\n",
    "data_amazon['rating'] = data_amazon['rating'].fillna('G') ### Donde halla valores nulos en rating remplazar con una 'G' simbolizando 'para todo publico' \n",
    "\n",
    "data_amazon['date_added'] = pd.to_datetime(data_amazon['date_added']) # Tranformar tipo de dato a datatime \n",
    "\n",
    "data_amazon['type'] = data_amazon['type'].str.lower()\n",
    "data_amazon['title'] = data_amazon['title'].str.lower()\n",
    "data_amazon['director'] = data_amazon['director'].str.lower()\n",
    "data_amazon['cast'] = data_amazon['cast'].str.lower()\n",
    "data_amazon['country'] = data_amazon['country'].str.lower()\n",
    "data_amazon['listed_in'] = data_amazon['listed_in'].str.lower()\n",
    "data_amazon['description'] = data_amazon['description'].str.lower() # Tranformando mayusculas en minusculas \n",
    "\n",
    "data_amazon[['duration_int', 'duration_type']] = data_amazon['duration'].str.split(' ', expand=True)\n",
    "data_amazon.drop(columns=['duration'], inplace=True)#Transformando de columna 'duration' a 'duration_type' y 'duration_int'\n",
    "data_amazon['duration_int'] = data_amazon['duration_int'].fillna(0).astype(int)\n",
    "data_amazon['duration_int'] = data_amazon['duration_int'].astype(int)\n",
    "data_amazon['Plataforma'] = ['Amazon'] * len(data_amazon) ### Creo la columna plataforma con el nombre de la plataforma correspondiente\n",
    "data_amazon['Plataforma'] = data_amazon['Plataforma'].str.lower()"
   ]
  },
  {
   "cell_type": "code",
   "execution_count": 5,
   "metadata": {},
   "outputs": [],
   "source": [
    "###TRANSFORMACION DE LOS DATOS Disney\n",
    "\n",
    "data_disney['show_id'] = 'd' + data_disney['show_id']  #Transformacion de id \n",
    "\n",
    "data_disney['rating'] = data_disney['rating'].fillna('G') #Donde haya  filas nullas colocar una G 'apto para todo publico' \n",
    "\n",
    "data_disney['date_added'] = pd.to_datetime(data_disney['date_added']) # Tranformar tipo de dato a datatime \n",
    "\n",
    "data_disney['type'] = data_disney['type'].str.lower()\n",
    "data_disney['title'] = data_disney['title'].str.lower()\n",
    "data_disney['director'] = data_disney['director'].str.lower()\n",
    "data_disney['cast'] = data_disney['cast'].str.lower()\n",
    "data_disney['country'] = data_disney['country'].str.lower()\n",
    "data_disney['listed_in'] = data_disney['listed_in'].str.lower()\n",
    "data_disney['description'] = data_disney['description'].str.lower() # Tranformando mayusculas en minusculas \n",
    "\n",
    "data_disney[['duration_int', 'duration_type']] = data_disney['duration'].str.split(' ', expand=True)\n",
    "data_disney.drop(columns=['duration'], inplace=True)#Transformando de columna 'duration' a 'duration_type' y 'duration_int'\n",
    "data_disney['duration_int'] = data_disney['duration_int'].fillna(0).astype(int)\n",
    "data_disney['duration_int'] = data_disney['duration_int'].astype(int)\n",
    "data_disney['Plataforma'] = ['Disney'] * len(data_disney)\n",
    "data_disney['Plataforma'] = data_disney['Plataforma'].str.lower()"
   ]
  },
  {
   "cell_type": "code",
   "execution_count": 6,
   "metadata": {},
   "outputs": [],
   "source": [
    "###TRANSFORMACION DE LOS DATOS Hulu\n",
    "\n",
    "data_hulu['show_id'] = 'h' + data_hulu['show_id']  #Transformacion de id \n",
    "\n",
    "data_hulu['rating'] = data_hulu['rating'].fillna('G') #Donde haya  filas nullas colocar una G 'apto para todo publico' \n",
    "\n",
    "data_hulu['date_added'] = pd.to_datetime(data_hulu['date_added']) # Tranformar tipo de dato a datatime \n",
    "\n",
    "data_hulu['type'] = data_hulu['type'].str.lower()\n",
    "data_hulu['title'] = data_hulu['title'].str.lower()\n",
    "data_hulu['director'] = data_hulu['director'].str.lower()\n",
    "data_hulu['cast'] = data_hulu['cast'].fillna('').astype(str)\n",
    "data_hulu['cast'] = data_hulu['cast'].astype(str)\n",
    "data_hulu['cast'] = data_hulu['cast'].str.lower()\n",
    "data_hulu['country'] = data_hulu['country'].str.lower()\n",
    "data_hulu['listed_in'] = data_hulu['listed_in'].str.lower()\n",
    "data_hulu['description'] = data_hulu['description'].str.lower() # Tranformando mayusculas en minusculas \n",
    "\n",
    "data_hulu[['duration_int', 'duration_type']] = data_hulu['duration'].str.split(' ', expand=True)\n",
    "data_hulu.drop(columns=['duration'], inplace=True)#Transformando de columna 'duration' a 'duration_type' y 'duration_int'\n",
    "data_hulu['duration_int'] = data_hulu['duration_int'].fillna(0).astype(int)\n",
    "data_hulu['duration_int'] = data_hulu ['duration_int'].astype(int)\n",
    "data_hulu['Plataforma'] = ['Hulu'] * len(data_hulu)\n",
    "data_hulu['Plataforma'] = data_hulu['Plataforma'].str.lower()"
   ]
  },
  {
   "cell_type": "code",
   "execution_count": 7,
   "metadata": {},
   "outputs": [],
   "source": [
    "###Concatenacion de los datasets\n",
    "df_concat = pd.concat([data_netflix, data_hulu, data_amazon, data_disney], axis=0)"
   ]
  },
  {
   "cell_type": "code",
   "execution_count": 8,
   "metadata": {},
   "outputs": [],
   "source": [
    "#Importacion de los 8 csv\n",
    "df1 = pd.read_csv('Csvs\\\\1.csv')\n",
    "df2 = pd.read_csv('Csvs\\\\2.csv')\n",
    "df3 = pd.read_csv('Csvs\\\\3.csv')\n",
    "df4 = pd.read_csv('Csvs\\\\4.csv')\n",
    "df5 = pd.read_csv('Csvs\\\\5.csv')\n",
    "df6 = pd.read_csv('Csvs\\\\6.csv')\n",
    "df7 = pd.read_csv('Csvs\\\\7.csv')\n",
    "df8 = pd.read_csv('Csvs\\\\8.csv')\n",
    "df = pd.concat([df1,df2,df3,df4,df5,df6,df7,df8], axis=0)"
   ]
  },
  {
   "cell_type": "code",
   "execution_count": 9,
   "metadata": {},
   "outputs": [
    {
     "data": {
      "text/html": [
       "<div>\n",
       "<style scoped>\n",
       "    .dataframe tbody tr th:only-of-type {\n",
       "        vertical-align: middle;\n",
       "    }\n",
       "\n",
       "    .dataframe tbody tr th {\n",
       "        vertical-align: top;\n",
       "    }\n",
       "\n",
       "    .dataframe thead th {\n",
       "        text-align: right;\n",
       "    }\n",
       "</style>\n",
       "<table border=\"1\" class=\"dataframe\">\n",
       "  <thead>\n",
       "    <tr style=\"text-align: right;\">\n",
       "      <th></th>\n",
       "      <th>userId</th>\n",
       "      <th>rating</th>\n",
       "      <th>timestamp</th>\n",
       "      <th>movieId</th>\n",
       "    </tr>\n",
       "  </thead>\n",
       "  <tbody>\n",
       "    <tr>\n",
       "      <th>0</th>\n",
       "      <td>1</td>\n",
       "      <td>1.0</td>\n",
       "      <td>1425941529</td>\n",
       "      <td>as680</td>\n",
       "    </tr>\n",
       "    <tr>\n",
       "      <th>1</th>\n",
       "      <td>1</td>\n",
       "      <td>4.5</td>\n",
       "      <td>1425942435</td>\n",
       "      <td>ns2186</td>\n",
       "    </tr>\n",
       "    <tr>\n",
       "      <th>2</th>\n",
       "      <td>1</td>\n",
       "      <td>5.0</td>\n",
       "      <td>1425941523</td>\n",
       "      <td>hs2381</td>\n",
       "    </tr>\n",
       "    <tr>\n",
       "      <th>3</th>\n",
       "      <td>1</td>\n",
       "      <td>5.0</td>\n",
       "      <td>1425941546</td>\n",
       "      <td>ns3663</td>\n",
       "    </tr>\n",
       "    <tr>\n",
       "      <th>4</th>\n",
       "      <td>1</td>\n",
       "      <td>5.0</td>\n",
       "      <td>1425941556</td>\n",
       "      <td>as9500</td>\n",
       "    </tr>\n",
       "  </tbody>\n",
       "</table>\n",
       "</div>"
      ],
      "text/plain": [
       "   userId  rating   timestamp movieId\n",
       "0       1     1.0  1425941529   as680\n",
       "1       1     4.5  1425942435  ns2186\n",
       "2       1     5.0  1425941523  hs2381\n",
       "3       1     5.0  1425941546  ns3663\n",
       "4       1     5.0  1425941556  as9500"
      ]
     },
     "execution_count": 9,
     "metadata": {},
     "output_type": "execute_result"
    }
   ],
   "source": [
    "df.head()"
   ]
  },
  {
   "cell_type": "code",
   "execution_count": 10,
   "metadata": {},
   "outputs": [
    {
     "name": "stdout",
     "output_type": "stream",
     "text": [
      "<class 'pandas.core.frame.DataFrame'>\n",
      "Int64Index: 11024289 entries, 0 to 1499999\n",
      "Data columns (total 4 columns):\n",
      " #   Column     Dtype  \n",
      "---  ------     -----  \n",
      " 0   userId     int64  \n",
      " 1   rating     float64\n",
      " 2   timestamp  int64  \n",
      " 3   movieId    object \n",
      "dtypes: float64(1), int64(2), object(1)\n",
      "memory usage: 420.5+ MB\n"
     ]
    }
   ],
   "source": [
    "df.info()"
   ]
  },
  {
   "cell_type": "code",
   "execution_count": 11,
   "metadata": {},
   "outputs": [],
   "source": [
    "#cambio el formato de la columna 'timestamp', aca lo paso de int a 'float'\n",
    "df['timestamp'] = pd.to_datetime(df['timestamp'], unit='s').dt.strftime('%B %d, %Y')"
   ]
  },
  {
   "cell_type": "code",
   "execution_count": 12,
   "metadata": {},
   "outputs": [],
   "source": [
    "#paso a formato fecha \n",
    "df['timestamp'] = pd.to_datetime(df['timestamp'])\n"
   ]
  },
  {
   "cell_type": "code",
   "execution_count": 13,
   "metadata": {},
   "outputs": [],
   "source": [
    "#Cambiamos el nombre del campo 'rating' por 'score'\n",
    "df_rating = df.rename(columns = {'rating' : 'score'})"
   ]
  },
  {
   "cell_type": "code",
   "execution_count": 14,
   "metadata": {},
   "outputs": [
    {
     "data": {
      "text/html": [
       "<div>\n",
       "<style scoped>\n",
       "    .dataframe tbody tr th:only-of-type {\n",
       "        vertical-align: middle;\n",
       "    }\n",
       "\n",
       "    .dataframe tbody tr th {\n",
       "        vertical-align: top;\n",
       "    }\n",
       "\n",
       "    .dataframe thead th {\n",
       "        text-align: right;\n",
       "    }\n",
       "</style>\n",
       "<table border=\"1\" class=\"dataframe\">\n",
       "  <thead>\n",
       "    <tr style=\"text-align: right;\">\n",
       "      <th></th>\n",
       "      <th>userId</th>\n",
       "      <th>score</th>\n",
       "      <th>timestamp</th>\n",
       "      <th>movieId</th>\n",
       "    </tr>\n",
       "  </thead>\n",
       "  <tbody>\n",
       "    <tr>\n",
       "      <th>0</th>\n",
       "      <td>1</td>\n",
       "      <td>1.0</td>\n",
       "      <td>2015-03-09</td>\n",
       "      <td>as680</td>\n",
       "    </tr>\n",
       "    <tr>\n",
       "      <th>1</th>\n",
       "      <td>1</td>\n",
       "      <td>4.5</td>\n",
       "      <td>2015-03-09</td>\n",
       "      <td>ns2186</td>\n",
       "    </tr>\n",
       "    <tr>\n",
       "      <th>2</th>\n",
       "      <td>1</td>\n",
       "      <td>5.0</td>\n",
       "      <td>2015-03-09</td>\n",
       "      <td>hs2381</td>\n",
       "    </tr>\n",
       "    <tr>\n",
       "      <th>3</th>\n",
       "      <td>1</td>\n",
       "      <td>5.0</td>\n",
       "      <td>2015-03-09</td>\n",
       "      <td>ns3663</td>\n",
       "    </tr>\n",
       "    <tr>\n",
       "      <th>4</th>\n",
       "      <td>1</td>\n",
       "      <td>5.0</td>\n",
       "      <td>2015-03-09</td>\n",
       "      <td>as9500</td>\n",
       "    </tr>\n",
       "  </tbody>\n",
       "</table>\n",
       "</div>"
      ],
      "text/plain": [
       "   userId  score  timestamp movieId\n",
       "0       1    1.0 2015-03-09   as680\n",
       "1       1    4.5 2015-03-09  ns2186\n",
       "2       1    5.0 2015-03-09  hs2381\n",
       "3       1    5.0 2015-03-09  ns3663\n",
       "4       1    5.0 2015-03-09  as9500"
      ]
     },
     "execution_count": 14,
     "metadata": {},
     "output_type": "execute_result"
    }
   ],
   "source": [
    "df_rating.head()"
   ]
  },
  {
   "cell_type": "code",
   "execution_count": 15,
   "metadata": {},
   "outputs": [
    {
     "data": {
      "text/plain": [
       "(11024289, 4)"
      ]
     },
     "execution_count": 15,
     "metadata": {},
     "output_type": "execute_result"
    }
   ],
   "source": [
    "df_rating.shape"
   ]
  },
  {
   "cell_type": "code",
   "execution_count": 16,
   "metadata": {},
   "outputs": [],
   "source": [
    "#Calculo el promedio de cada pelicula \n",
    "MeanScore = df_rating.groupby(\"movieId\")\n",
    "MeanScore = MeanScore[\"score\"].mean()"
   ]
  },
  {
   "cell_type": "code",
   "execution_count": 17,
   "metadata": {},
   "outputs": [
    {
     "data": {
      "text/html": [
       "<div>\n",
       "<style scoped>\n",
       "    .dataframe tbody tr th:only-of-type {\n",
       "        vertical-align: middle;\n",
       "    }\n",
       "\n",
       "    .dataframe tbody tr th {\n",
       "        vertical-align: top;\n",
       "    }\n",
       "\n",
       "    .dataframe thead th {\n",
       "        text-align: right;\n",
       "    }\n",
       "</style>\n",
       "<table border=\"1\" class=\"dataframe\">\n",
       "  <thead>\n",
       "    <tr style=\"text-align: right;\">\n",
       "      <th></th>\n",
       "      <th>score</th>\n",
       "    </tr>\n",
       "    <tr>\n",
       "      <th>movieId</th>\n",
       "      <th></th>\n",
       "    </tr>\n",
       "  </thead>\n",
       "  <tbody>\n",
       "    <tr>\n",
       "      <th>as1</th>\n",
       "      <td>3.467131</td>\n",
       "    </tr>\n",
       "    <tr>\n",
       "      <th>as10</th>\n",
       "      <td>3.439571</td>\n",
       "    </tr>\n",
       "    <tr>\n",
       "      <th>as100</th>\n",
       "      <td>3.609302</td>\n",
       "    </tr>\n",
       "    <tr>\n",
       "      <th>as1000</th>\n",
       "      <td>3.556701</td>\n",
       "    </tr>\n",
       "    <tr>\n",
       "      <th>as1001</th>\n",
       "      <td>3.585288</td>\n",
       "    </tr>\n",
       "    <tr>\n",
       "      <th>...</th>\n",
       "      <td>...</td>\n",
       "    </tr>\n",
       "    <tr>\n",
       "      <th>ns995</th>\n",
       "      <td>3.515625</td>\n",
       "    </tr>\n",
       "    <tr>\n",
       "      <th>ns996</th>\n",
       "      <td>3.626518</td>\n",
       "    </tr>\n",
       "    <tr>\n",
       "      <th>ns997</th>\n",
       "      <td>3.530526</td>\n",
       "    </tr>\n",
       "    <tr>\n",
       "      <th>ns998</th>\n",
       "      <td>3.582645</td>\n",
       "    </tr>\n",
       "    <tr>\n",
       "      <th>ns999</th>\n",
       "      <td>3.494781</td>\n",
       "    </tr>\n",
       "  </tbody>\n",
       "</table>\n",
       "<p>22998 rows × 1 columns</p>\n",
       "</div>"
      ],
      "text/plain": [
       "            score\n",
       "movieId          \n",
       "as1      3.467131\n",
       "as10     3.439571\n",
       "as100    3.609302\n",
       "as1000   3.556701\n",
       "as1001   3.585288\n",
       "...           ...\n",
       "ns995    3.515625\n",
       "ns996    3.626518\n",
       "ns997    3.530526\n",
       "ns998    3.582645\n",
       "ns999    3.494781\n",
       "\n",
       "[22998 rows x 1 columns]"
      ]
     },
     "execution_count": 17,
     "metadata": {},
     "output_type": "execute_result"
    }
   ],
   "source": [
    "#Lo pasamos a un dataframe y reseteamos el indice\n",
    "df_MeanScore= pd.DataFrame(MeanScore)\n",
    "df_MeanScore"
   ]
  },
  {
   "cell_type": "code",
   "execution_count": 18,
   "metadata": {},
   "outputs": [],
   "source": [
    "df_MeanScore.to_csv('scores.csv') #Exportamos el csv"
   ]
  },
  {
   "cell_type": "code",
   "execution_count": 19,
   "metadata": {},
   "outputs": [],
   "source": [
    "#Concatenamos los scores con sus plataformas segun el id correspondiente\n",
    "platform_movies = df_concat.merge(df_MeanScore, left_on=\"show_id\", right_on=\"movieId\")"
   ]
  },
  {
   "cell_type": "code",
   "execution_count": 20,
   "metadata": {},
   "outputs": [
    {
     "data": {
      "text/html": [
       "<div>\n",
       "<style scoped>\n",
       "    .dataframe tbody tr th:only-of-type {\n",
       "        vertical-align: middle;\n",
       "    }\n",
       "\n",
       "    .dataframe tbody tr th {\n",
       "        vertical-align: top;\n",
       "    }\n",
       "\n",
       "    .dataframe thead th {\n",
       "        text-align: right;\n",
       "    }\n",
       "</style>\n",
       "<table border=\"1\" class=\"dataframe\">\n",
       "  <thead>\n",
       "    <tr style=\"text-align: right;\">\n",
       "      <th></th>\n",
       "      <th>show_id</th>\n",
       "      <th>type</th>\n",
       "      <th>title</th>\n",
       "      <th>director</th>\n",
       "      <th>cast</th>\n",
       "      <th>country</th>\n",
       "      <th>date_added</th>\n",
       "      <th>release_year</th>\n",
       "      <th>rating</th>\n",
       "      <th>listed_in</th>\n",
       "      <th>description</th>\n",
       "      <th>Plataforma</th>\n",
       "      <th>duration_int</th>\n",
       "      <th>duration_type</th>\n",
       "      <th>score</th>\n",
       "    </tr>\n",
       "  </thead>\n",
       "  <tbody>\n",
       "    <tr>\n",
       "      <th>0</th>\n",
       "      <td>ns1</td>\n",
       "      <td>movie</td>\n",
       "      <td>dick johnson is dead</td>\n",
       "      <td>kirsten johnson</td>\n",
       "      <td>NaN</td>\n",
       "      <td>united states</td>\n",
       "      <td>2021-09-25</td>\n",
       "      <td>2020</td>\n",
       "      <td>PG-13</td>\n",
       "      <td>documentaries</td>\n",
       "      <td>as her father nears the end of his life, filmm...</td>\n",
       "      <td>netflix</td>\n",
       "      <td>90</td>\n",
       "      <td>min</td>\n",
       "      <td>3.611111</td>\n",
       "    </tr>\n",
       "    <tr>\n",
       "      <th>1</th>\n",
       "      <td>ns2</td>\n",
       "      <td>tv show</td>\n",
       "      <td>blood &amp; water</td>\n",
       "      <td>NaN</td>\n",
       "      <td>ama qamata, khosi ngema, gail mabalane, thaban...</td>\n",
       "      <td>south africa</td>\n",
       "      <td>2021-09-24</td>\n",
       "      <td>2021</td>\n",
       "      <td>TV-MA</td>\n",
       "      <td>international tv shows, tv dramas, tv mysteries</td>\n",
       "      <td>after crossing paths at a party, a cape town t...</td>\n",
       "      <td>netflix</td>\n",
       "      <td>2</td>\n",
       "      <td>Seasons</td>\n",
       "      <td>3.552632</td>\n",
       "    </tr>\n",
       "    <tr>\n",
       "      <th>2</th>\n",
       "      <td>ns3</td>\n",
       "      <td>tv show</td>\n",
       "      <td>ganglands</td>\n",
       "      <td>julien leclercq</td>\n",
       "      <td>sami bouajila, tracy gotoas, samuel jouy, nabi...</td>\n",
       "      <td>NaN</td>\n",
       "      <td>2021-09-24</td>\n",
       "      <td>2021</td>\n",
       "      <td>TV-MA</td>\n",
       "      <td>crime tv shows, international tv shows, tv act...</td>\n",
       "      <td>to protect his family from a powerful drug lor...</td>\n",
       "      <td>netflix</td>\n",
       "      <td>1</td>\n",
       "      <td>Season</td>\n",
       "      <td>3.597938</td>\n",
       "    </tr>\n",
       "  </tbody>\n",
       "</table>\n",
       "</div>"
      ],
      "text/plain": [
       "  show_id     type                 title         director  \\\n",
       "0     ns1    movie  dick johnson is dead  kirsten johnson   \n",
       "1     ns2  tv show         blood & water              NaN   \n",
       "2     ns3  tv show             ganglands  julien leclercq   \n",
       "\n",
       "                                                cast        country  \\\n",
       "0                                                NaN  united states   \n",
       "1  ama qamata, khosi ngema, gail mabalane, thaban...   south africa   \n",
       "2  sami bouajila, tracy gotoas, samuel jouy, nabi...            NaN   \n",
       "\n",
       "  date_added  release_year rating  \\\n",
       "0 2021-09-25          2020  PG-13   \n",
       "1 2021-09-24          2021  TV-MA   \n",
       "2 2021-09-24          2021  TV-MA   \n",
       "\n",
       "                                           listed_in  \\\n",
       "0                                      documentaries   \n",
       "1    international tv shows, tv dramas, tv mysteries   \n",
       "2  crime tv shows, international tv shows, tv act...   \n",
       "\n",
       "                                         description Plataforma  duration_int  \\\n",
       "0  as her father nears the end of his life, filmm...    netflix            90   \n",
       "1  after crossing paths at a party, a cape town t...    netflix             2   \n",
       "2  to protect his family from a powerful drug lor...    netflix             1   \n",
       "\n",
       "  duration_type     score  \n",
       "0           min  3.611111  \n",
       "1       Seasons  3.552632  \n",
       "2        Season  3.597938  "
      ]
     },
     "execution_count": 20,
     "metadata": {},
     "output_type": "execute_result"
    }
   ],
   "source": [
    "platform_movies.head(3)"
   ]
  },
  {
   "cell_type": "code",
   "execution_count": 21,
   "metadata": {},
   "outputs": [
    {
     "data": {
      "text/plain": [
       "(22998, 15)"
      ]
     },
     "execution_count": 21,
     "metadata": {},
     "output_type": "execute_result"
    }
   ],
   "source": [
    "platform_movies.shape"
   ]
  },
  {
   "cell_type": "code",
   "execution_count": 22,
   "metadata": {},
   "outputs": [
    {
     "data": {
      "text/plain": [
       "show_id              0\n",
       "type                 0\n",
       "title                0\n",
       "director          8259\n",
       "cast              2248\n",
       "country          11499\n",
       "date_added        9554\n",
       "release_year         0\n",
       "rating               0\n",
       "listed_in            0\n",
       "description          4\n",
       "Plataforma           0\n",
       "duration_int         0\n",
       "duration_type      482\n",
       "score                0\n",
       "dtype: int64"
      ]
     },
     "execution_count": 22,
     "metadata": {},
     "output_type": "execute_result"
    }
   ],
   "source": [
    "platform_movies.isnull().sum()"
   ]
  },
  {
   "cell_type": "code",
   "execution_count": 23,
   "metadata": {},
   "outputs": [
    {
     "name": "stdout",
     "output_type": "stream",
     "text": [
      "<class 'pandas.core.frame.DataFrame'>\n",
      "Int64Index: 22998 entries, 0 to 22997\n",
      "Data columns (total 15 columns):\n",
      " #   Column         Non-Null Count  Dtype         \n",
      "---  ------         --------------  -----         \n",
      " 0   show_id        22998 non-null  object        \n",
      " 1   type           22998 non-null  object        \n",
      " 2   title          22998 non-null  object        \n",
      " 3   director       14739 non-null  object        \n",
      " 4   cast           20750 non-null  object        \n",
      " 5   country        11499 non-null  object        \n",
      " 6   date_added     13444 non-null  datetime64[ns]\n",
      " 7   release_year   22998 non-null  int64         \n",
      " 8   rating         22998 non-null  object        \n",
      " 9   listed_in      22998 non-null  object        \n",
      " 10  description    22994 non-null  object        \n",
      " 11  Plataforma     22998 non-null  object        \n",
      " 12  duration_int   22998 non-null  int32         \n",
      " 13  duration_type  22516 non-null  object        \n",
      " 14  score          22998 non-null  float64       \n",
      "dtypes: datetime64[ns](1), float64(1), int32(1), int64(1), object(11)\n",
      "memory usage: 2.7+ MB\n"
     ]
    }
   ],
   "source": [
    "platform_movies.info()"
   ]
  },
  {
   "cell_type": "code",
   "execution_count": 24,
   "metadata": {},
   "outputs": [],
   "source": [
    "#Exportamos las plataformas concatenadas y sus scores\n",
    "platform_movies.to_csv('platform_movies_scores.csv')"
   ]
  },
  {
   "attachments": {},
   "cell_type": "markdown",
   "metadata": {},
   "source": [
    "## Analisis exploratorio de los datos EDA"
   ]
  },
  {
   "cell_type": "code",
   "execution_count": 25,
   "metadata": {},
   "outputs": [
    {
     "data": {
      "text/html": [
       "<div>\n",
       "<style scoped>\n",
       "    .dataframe tbody tr th:only-of-type {\n",
       "        vertical-align: middle;\n",
       "    }\n",
       "\n",
       "    .dataframe tbody tr th {\n",
       "        vertical-align: top;\n",
       "    }\n",
       "\n",
       "    .dataframe thead th {\n",
       "        text-align: right;\n",
       "    }\n",
       "</style>\n",
       "<table border=\"1\" class=\"dataframe\">\n",
       "  <thead>\n",
       "    <tr style=\"text-align: right;\">\n",
       "      <th></th>\n",
       "      <th>release_year</th>\n",
       "      <th>duration_int</th>\n",
       "      <th>score</th>\n",
       "    </tr>\n",
       "  </thead>\n",
       "  <tbody>\n",
       "    <tr>\n",
       "      <th>count</th>\n",
       "      <td>22998.000000</td>\n",
       "      <td>22998.000000</td>\n",
       "      <td>22998.000000</td>\n",
       "    </tr>\n",
       "    <tr>\n",
       "      <th>mean</th>\n",
       "      <td>2010.811244</td>\n",
       "      <td>65.710584</td>\n",
       "      <td>3.533443</td>\n",
       "    </tr>\n",
       "    <tr>\n",
       "      <th>std</th>\n",
       "      <td>15.401142</td>\n",
       "      <td>51.760868</td>\n",
       "      <td>0.048564</td>\n",
       "    </tr>\n",
       "    <tr>\n",
       "      <th>min</th>\n",
       "      <td>1920.000000</td>\n",
       "      <td>0.000000</td>\n",
       "      <td>3.336478</td>\n",
       "    </tr>\n",
       "    <tr>\n",
       "      <th>25%</th>\n",
       "      <td>2010.000000</td>\n",
       "      <td>3.000000</td>\n",
       "      <td>3.500000</td>\n",
       "    </tr>\n",
       "    <tr>\n",
       "      <th>50%</th>\n",
       "      <td>2016.000000</td>\n",
       "      <td>83.000000</td>\n",
       "      <td>3.533673</td>\n",
       "    </tr>\n",
       "    <tr>\n",
       "      <th>75%</th>\n",
       "      <td>2019.000000</td>\n",
       "      <td>101.000000</td>\n",
       "      <td>3.567000</td>\n",
       "    </tr>\n",
       "    <tr>\n",
       "      <th>max</th>\n",
       "      <td>2021.000000</td>\n",
       "      <td>601.000000</td>\n",
       "      <td>3.724512</td>\n",
       "    </tr>\n",
       "  </tbody>\n",
       "</table>\n",
       "</div>"
      ],
      "text/plain": [
       "       release_year  duration_int         score\n",
       "count  22998.000000  22998.000000  22998.000000\n",
       "mean    2010.811244     65.710584      3.533443\n",
       "std       15.401142     51.760868      0.048564\n",
       "min     1920.000000      0.000000      3.336478\n",
       "25%     2010.000000      3.000000      3.500000\n",
       "50%     2016.000000     83.000000      3.533673\n",
       "75%     2019.000000    101.000000      3.567000\n",
       "max     2021.000000    601.000000      3.724512"
      ]
     },
     "execution_count": 25,
     "metadata": {},
     "output_type": "execute_result"
    }
   ],
   "source": [
    "#Descripcion estadistica de los datos numericos\n",
    "platform_movies.describe()"
   ]
  },
  {
   "cell_type": "code",
   "execution_count": 26,
   "metadata": {},
   "outputs": [
    {
     "data": {
      "image/png": "[encoded data removed]",
      "text/plain": [
       "<Figure size 936x648 with 2 Axes>"
      ]
     },
     "metadata": {
      "needs_background": "light"
     },
     "output_type": "display_data"
    }
   ],
   "source": [
    "###Vemos la correlacion del datasets con un mapa de calor\n",
    "df_corr = platform_movies.corr().round(2)\n",
    "plt.figure(figsize=(13,9))\n",
    "sns.heatmap(data=df_corr, annot= True)\n",
    "plt.show()\n"
   ]
  },
  {
   "cell_type": "code",
   "execution_count": 27,
   "metadata": {},
   "outputs": [
    {
     "name": "stderr",
     "output_type": "stream",
     "text": [
      "Summarize dataset: 100%|██████████| 34/34 [01:05<00:00,  1.94s/it, Completed]                         \n",
      "Generate report structure: 100%|██████████| 1/1 [00:08<00:00,  8.64s/it]\n",
      "Render HTML: 100%|██████████| 1/1 [00:10<00:00, 10.11s/it]\n",
      "Export report to file: 100%|██████████| 1/1 [00:00<00:00, 33.94it/s]\n"
     ]
    }
   ],
   "source": [
    "###Hacemos un profiling de los datos \n",
    "report = platform_movies.profile_report(title='Pandas profiling report ')\n",
    "report.to_file(output_file=\"report.html\")"
   ]
  },
  {
   "cell_type": "code",
   "execution_count": 28,
   "metadata": {},
   "outputs": [],
   "source": [
    "#Vemos anomalias en los datos\n",
    "plt.rcParams['figure.figsize'] = (16.0, 6.0)"
   ]
  },
  {
   "cell_type": "code",
   "execution_count": 29,
   "metadata": {},
   "outputs": [
    {
     "data": {
      "image/png": "[encoded data removed]",
      "text/plain": [
       "<Figure size 1800x864 with 1 Axes>"
      ]
     },
     "metadata": {
      "needs_background": "light"
     },
     "output_type": "display_data"
    }
   ],
   "source": [
    "#Visualizamos los valores nulos con una matrix\n",
    "plt.figure(figsize= (25,12))\n",
    "sns.heatmap(platform_movies.isnull(), cbar=False)\n",
    "plt.show()"
   ]
  },
  {
   "cell_type": "code",
   "execution_count": 30,
   "metadata": {},
   "outputs": [
    {
     "data": {
      "text/plain": [
       "show_id              0\n",
       "type                 0\n",
       "title                0\n",
       "director          8259\n",
       "cast              2248\n",
       "country          11499\n",
       "date_added        9554\n",
       "release_year         0\n",
       "rating               0\n",
       "listed_in            0\n",
       "description          4\n",
       "Plataforma           0\n",
       "duration_int         0\n",
       "duration_type      482\n",
       "score                0\n",
       "dtype: int64"
      ]
     },
     "execution_count": 30,
     "metadata": {},
     "output_type": "execute_result"
    }
   ],
   "source": [
    "platform_movies.isnull().sum()"
   ]
  }
 ],
 "metadata": {
  "kernelspec": {
   "display_name": "Python 3",
   "language": "python",
   "name": "python3"
  },
  "language_info": {
   "codemirror_mode": {
    "name": "ipython",
    "version": 3
   },
   "file_extension": ".py",
   "mimetype": "text/x-python",
   "name": "python",
   "nbconvert_exporter": "python",
   "pygments_lexer": "ipython3",
   "version": "3.10.11"
  },
  "orig_nbformat": 4
 },
 "nbformat": 4,
 "nbformat_minor": 2
}
